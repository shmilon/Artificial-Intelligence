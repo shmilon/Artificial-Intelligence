{
  "nbformat": 4,
  "nbformat_minor": 0,
  "metadata": {
    "colab": {
      "provenance": [],
      "authorship_tag": "ABX9TyPx1GntQ3Gd4d/SCmVr8ztf",
      "include_colab_link": true
    },
    "kernelspec": {
      "name": "python3",
      "display_name": "Python 3"
    },
    "language_info": {
      "name": "python"
    }
  },
  "cells": [
    {
      "cell_type": "markdown",
      "metadata": {
        "id": "view-in-github",
        "colab_type": "text"
      },
      "source": [
        "<a href=\"https://colab.research.google.com/github/shmilon/Artificial-Intelligence/blob/main/ANN_Layer_Perception.ipynb\" target=\"_parent\"><img src=\"https://colab.research.google.com/assets/colab-badge.svg\" alt=\"Open In Colab\"/></a>"
      ]
    },
    {
      "cell_type": "code",
      "source": [
        "import numpy as np\n",
        "\n",
        "x1 = [0,0,1,1]\n",
        "x2 = [0,1,0,1]\n",
        "yd = [0,1,1,1]\n",
        "error = ['none','none','none','none']\n",
        "\n",
        "w1= 0.4\n",
        "w2=0.1\n",
        "th = 0.2\n",
        "lr =0.1\n",
        "\n",
        "def checkError(listError):\n",
        "    for element in listError:\n",
        "        if element != 0:\n",
        "            return False\n",
        "    return True\n",
        "\n",
        "\n",
        "def step(yp):\n",
        "    return 1 if yp>0 else 0\n",
        "\n",
        "\n",
        "epoch = 1\n",
        "while True:\n",
        "    for i in range(4):\n",
        "        yp = (x1[i]*w1)+(x2[i]*w2)-th\n",
        "\n",
        "        print(\"Calculated value: yp=\",yp)\n",
        "\n",
        "        yp = step(yp)\n",
        "        print(\"yp from Step: yp=\",yp)\n",
        "        \n",
        "        error [i] = yd[i]-yp\n",
        "        print(\"Error =\",error)\n",
        "        \n",
        "        w1 +=lr*(x1[i]*error[i])\n",
        "        print(\"w1 =\",w1)\n",
        "        \n",
        "        w2 +=lr*(x2[i]*error[i])\n",
        "        print(\"w2 =\",w2)\n",
        "\n",
        "    result = checkError(error)\n",
        "    print(\"result =\",result)\n",
        "        \n",
        "    if (result is True):\n",
        "        break;\n",
        "    epoch +=1\n",
        "\n",
        "\n",
        "print (\"epoch =\",epoch,\"and weight w2 =\",w1,\"w2 =\",w2)"
      ],
      "metadata": {
        "colab": {
          "base_uri": "https://localhost:8080/"
        },
        "id": "2_50AQn38sm5",
        "outputId": "835a9aa6-ad54-4503-e0e6-e117023ec019"
      },
      "execution_count": 1,
      "outputs": [
        {
          "output_type": "stream",
          "name": "stdout",
          "text": [
            "Calculated value: yp= -0.2\n",
            "yp from Step: yp= 0\n",
            "Error = [0, 'none', 'none', 'none']\n",
            "w1 = 0.4\n",
            "w2 = 0.1\n",
            "Calculated value: yp= -0.1\n",
            "yp from Step: yp= 0\n",
            "Error = [0, 1, 'none', 'none']\n",
            "w1 = 0.4\n",
            "w2 = 0.2\n",
            "Calculated value: yp= 0.2\n",
            "yp from Step: yp= 1\n",
            "Error = [0, 1, 0, 'none']\n",
            "w1 = 0.4\n",
            "w2 = 0.2\n",
            "Calculated value: yp= 0.4000000000000001\n",
            "yp from Step: yp= 1\n",
            "Error = [0, 1, 0, 0]\n",
            "w1 = 0.4\n",
            "w2 = 0.2\n",
            "result = False\n",
            "Calculated value: yp= -0.2\n",
            "yp from Step: yp= 0\n",
            "Error = [0, 1, 0, 0]\n",
            "w1 = 0.4\n",
            "w2 = 0.2\n",
            "Calculated value: yp= 0.0\n",
            "yp from Step: yp= 0\n",
            "Error = [0, 1, 0, 0]\n",
            "w1 = 0.4\n",
            "w2 = 0.30000000000000004\n",
            "Calculated value: yp= 0.2\n",
            "yp from Step: yp= 1\n",
            "Error = [0, 1, 0, 0]\n",
            "w1 = 0.4\n",
            "w2 = 0.30000000000000004\n",
            "Calculated value: yp= 0.5\n",
            "yp from Step: yp= 1\n",
            "Error = [0, 1, 0, 0]\n",
            "w1 = 0.4\n",
            "w2 = 0.30000000000000004\n",
            "result = False\n",
            "Calculated value: yp= -0.2\n",
            "yp from Step: yp= 0\n",
            "Error = [0, 1, 0, 0]\n",
            "w1 = 0.4\n",
            "w2 = 0.30000000000000004\n",
            "Calculated value: yp= 0.10000000000000003\n",
            "yp from Step: yp= 1\n",
            "Error = [0, 0, 0, 0]\n",
            "w1 = 0.4\n",
            "w2 = 0.30000000000000004\n",
            "Calculated value: yp= 0.2\n",
            "yp from Step: yp= 1\n",
            "Error = [0, 0, 0, 0]\n",
            "w1 = 0.4\n",
            "w2 = 0.30000000000000004\n",
            "Calculated value: yp= 0.5\n",
            "yp from Step: yp= 1\n",
            "Error = [0, 0, 0, 0]\n",
            "w1 = 0.4\n",
            "w2 = 0.30000000000000004\n",
            "result = True\n",
            "epoch = 3 and weight w2 = 0.4 w2 = 0.30000000000000004\n"
          ]
        }
      ]
    }
  ]
}